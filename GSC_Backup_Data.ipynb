{
 "cells": [
  {
   "cell_type": "code",
   "execution_count": 1,
   "id": "11dc8190",
   "metadata": {},
   "outputs": [],
   "source": [
    "import os\n",
    "import sys\n",
    "from googleapiclient import sample_tools\n",
    "import pymongo\n",
    "import pandas\n",
    "from datetime import date, timedelta"
   ]
  },
  {
   "cell_type": "code",
   "execution_count": 2,
   "id": "51d2ce01",
   "metadata": {},
   "outputs": [],
   "source": [
    "# DB\n",
    "clientDB = pymongo.MongoClient(\"mongodb://___\") # replace\n",
    "storage = clientDB[\"___\"] # replace\n",
    "collection = storage[\"___\"] # replace"
   ]
  },
  {
   "cell_type": "code",
   "execution_count": 3,
   "id": "14a0321d",
   "metadata": {},
   "outputs": [],
   "source": [
    "property_uri = '___' # replace GSC property uri\n",
    "\n",
    "sdate = date(YYYY,M,D) # replace YYYY,M,D\n",
    "edate = date(YYYY,M,D) # replace YYYY,M,D\n",
    "all_dates = pandas.date_range(sdate,edate-timedelta(days=1),freq='d').strftime('%Y-%m-%d').tolist()"
   ]
  },
  {
   "cell_type": "code",
   "execution_count": 4,
   "id": "d832959c",
   "metadata": {},
   "outputs": [],
   "source": [
    "# Set os.path.abspath (./) in a way, that client_secrets.json can be found\n",
    "# https://console.cloud.google.com/ obtain file here for GSC API\n",
    "service, flags = sample_tools.init([], 'searchconsole', 'v1',  __doc__, os.path.abspath('./code/'),\n",
    "                                   scope='https://www.googleapis.com/auth/webmasters.readonly')"
   ]
  },
  {
   "cell_type": "code",
   "execution_count": 5,
   "id": "39e43020",
   "metadata": {},
   "outputs": [],
   "source": [
    "def getValues(r):\n",
    "    return [r[0]['clicks'], r[0]['impressions'], r[0]['ctr'], r[0]['position']]"
   ]
  },
  {
   "cell_type": "code",
   "execution_count": 6,
   "id": "1e6987ff",
   "metadata": {},
   "outputs": [],
   "source": [
    "for d in all_dates:\n",
    "    \n",
    "    # Total Request\n",
    "    TOTAL_REQUEST = {\n",
    "      'startDate': d,\n",
    "      'endDate': d,\n",
    "      'searchType': 'WEB',\n",
    "     'rowLimit': 1\n",
    "    }\n",
    "    \n",
    "    '''\n",
    "    e.g. German Traffic\n",
    "    DE_REQUEST = {\n",
    "      'startDate': d,\n",
    "      'endDate': d,\n",
    "      'searchType': 'WEB',\n",
    "      'dimensionFilterGroups': [{\n",
    "          'filters': [{\n",
    "              'dimension': 'country',\n",
    "              'expression': 'DEU'\n",
    "          }]\n",
    "      }],\n",
    "     'rowLimit': 1\n",
    "      }\n",
    "    '''\n",
    "    \n",
    "    # Save Request\n",
    "    TOTAL_RESPONSE = service.searchanalytics().query(siteUrl=property_uri, body=TOTAL_REQUEST).execute()\n",
    "    rows_TTL = getValues(TOTAL_RESPONSE['rows'])\n",
    "    \n",
    "    # Import entry\n",
    "    temp = {}\n",
    "    temp[\"date\"] = d\n",
    "    temp[\"clicks\"] = rows_TTL[0]\n",
    "    temp[\"imprs\"] = rows_TTL[1]\n",
    "    temp[\"ctr\"] = rows_TTL[2]\n",
    "    temp[\"pos\"] = rows_TTL[3]\n",
    "    collection.insert_one(temp)"
   ]
  }
 ],
 "metadata": {
  "kernelspec": {
   "display_name": "Python 3",
   "language": "python",
   "name": "python3"
  },
  "language_info": {
   "codemirror_mode": {
    "name": "ipython",
    "version": 3
   },
   "file_extension": ".py",
   "mimetype": "text/x-python",
   "name": "python",
   "nbconvert_exporter": "python",
   "pygments_lexer": "ipython3",
   "version": "3.8.8"
  }
 },
 "nbformat": 4,
 "nbformat_minor": 5
}
